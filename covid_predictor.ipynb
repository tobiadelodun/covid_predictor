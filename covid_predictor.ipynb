{
  "cells": [
    {
      "cell_type": "markdown",
      "metadata": {
        "id": "hU8TXI15ko8n"
      },
      "source": [
        "# Final Project - COVID Case/Death Prediction\n"
      ]
    },
    {
      "cell_type": "markdown",
      "metadata": {
        "id": "9W3moAyolPI_"
      },
      "source": [
        "## Introduction\n",
        "Throughout this course  we have learned various methods of Machine Learning. Through using different packages such as sklearn, keras, xgboost, and  imblearning we were able to perform different techniques of learning on different datasets. In this instance today, we are training a neural network to predict the Covid-19 cases and deaths in Canada for the days of April 18, 19 and 20 in the year of 2022. It will utilize a training set of the past data and it will be tested against current data in order to come up with the perdiciton."
      ]
    },
    {
      "cell_type": "markdown",
      "metadata": {
        "id": "L60jF-xP7bZ3"
      },
      "source": [
        "## Packages\n",
        "The packages we will need to build these nerual networks are numpy, pandas, sklearn.preprocessing and from there we will need the MinMaxScaler, keras.models and from there we will need the sequential function, keras.layers and from there we will need LTSM, Dense, and Dropout."
      ]
    },
    {
      "cell_type": "code",
      "execution_count": 2,
      "metadata": {
        "id": "lwbd_v1KhCgt"
      },
      "outputs": [],
      "source": [
        "import numpy as np\n",
        "import pandas as pd\n",
        "from sklearn.preprocessing import MinMaxScaler\n",
        "from keras.models import Sequential\n",
        "from keras.layers import LSTM,Dense ,Dropout\n",
        "from keras import callbacks\n",
        "\n",
        "#Needed packages"
      ]
    },
    {
      "cell_type": "markdown",
      "metadata": {
        "id": "OboIJ3mx_pEO"
      },
      "source": [
        "## Seed\n",
        "Here we are using Numpy to set a seed so that every time this code is run, the results of training the model does not vary too much. We set our future value of 3 which indicates how many variables we plan to predict and we set our past variable to 56 to indicate how many days will be used to predict the future days."
      ]
    },
    {
      "cell_type": "code",
      "execution_count": 3,
      "metadata": {
        "id": "2YXtLc2i0Qv7"
      },
      "outputs": [],
      "source": [
        "np.random.seed(17) #Set seed\n",
        "future = 3 #How many predictions\n",
        "past = 56  #How many past observations these predictions are based on"
      ]
    },
    {
      "cell_type": "markdown",
      "metadata": {
        "id": "qZx5ZUOc_x2r"
      },
      "source": [
        "## Training Case Data Set\n",
        "In this cell, we are going to load the dataset that we will use to make our training set using Pandas. Intially, these dataset consists of 177,143 observations and 67 different variables. The variables that are needed for the training set will be total_cases and total_deaths from Canada's observations. Due to this, the next step was to filter the dataset based on the location so that it would return only Canadian values. Then located the needed variables using iloc and tranformed the dataset using values and stored it in their respective local variables."
      ]
    },
    {
      "cell_type": "code",
      "execution_count": 4,
      "metadata": {
        "id": "i2kDKclyPj4A",
        "colab": {
          "base_uri": "https://localhost:8080/",
          "height": 312
        },
        "outputId": "d10aaadd-ab5f-4a66-e9a0-2b0f1eeaf0fc"
      },
      "outputs": [
        {
          "output_type": "stream",
          "name": "stderr",
          "text": [
            "<ipython-input-4-6d4a67e59d34>:2: UserWarning: Could not infer format, so each element will be parsed individually, falling back to `dateutil`. To ensure parsing is consistent and as-expected, please specify a format.\n",
            "  dataset = pd.read_csv(url,index_col=0,parse_dates=[0]) #Load dataset\n"
          ]
        },
        {
          "output_type": "execute_result",
          "data": {
            "text/plain": [
              "              continent location        date  total_cases  new_cases  \\\n",
              "iso_code                                                               \n",
              "CAN       North America   Canada  2024-08-02    4819017.0        0.0   \n",
              "CAN       North America   Canada  2024-08-03    4819017.0        0.0   \n",
              "CAN       North America   Canada  2024-08-04    4819055.0       38.0   \n",
              "\n",
              "          new_cases_smoothed  total_deaths  new_deaths  new_deaths_smoothed  \\\n",
              "iso_code                                                                      \n",
              "CAN                    46.71       55282.0         0.0                 0.29   \n",
              "CAN                    46.71       55282.0         0.0                 0.29   \n",
              "CAN                     5.43       55282.0         0.0                 0.00   \n",
              "\n",
              "          total_cases_per_million  ...  male_smokers  handwashing_facilities  \\\n",
              "iso_code                           ...                                         \n",
              "CAN                     124133.45  ...          16.6                     0.0   \n",
              "CAN                     124133.45  ...          16.6                     0.0   \n",
              "CAN                     124134.43  ...          16.6                     0.0   \n",
              "\n",
              "          hospital_beds_per_thousand  life_expectancy  \\\n",
              "iso_code                                                \n",
              "CAN                              2.5            82.43   \n",
              "CAN                              2.5            82.43   \n",
              "CAN                              2.5            82.43   \n",
              "\n",
              "          human_development_index  population  \\\n",
              "iso_code                                        \n",
              "CAN                          0.93    38454328   \n",
              "CAN                          0.93    38454328   \n",
              "CAN                          0.93    38454328   \n",
              "\n",
              "          excess_mortality_cumulative_absolute  excess_mortality_cumulative  \\\n",
              "iso_code                                                                      \n",
              "CAN                                        0.0                          0.0   \n",
              "CAN                                        0.0                          0.0   \n",
              "CAN                                        0.0                          0.0   \n",
              "\n",
              "          excess_mortality  excess_mortality_cumulative_per_million  \n",
              "iso_code                                                             \n",
              "CAN                    0.0                                      0.0  \n",
              "CAN                    0.0                                      0.0  \n",
              "CAN                    0.0                                      0.0  \n",
              "\n",
              "[3 rows x 66 columns]"
            ],
            "text/html": [
              "\n",
              "  <div id=\"df-c6bdfe2b-240c-425a-96b4-882a8ea83c5a\" class=\"colab-df-container\">\n",
              "    <div>\n",
              "<style scoped>\n",
              "    .dataframe tbody tr th:only-of-type {\n",
              "        vertical-align: middle;\n",
              "    }\n",
              "\n",
              "    .dataframe tbody tr th {\n",
              "        vertical-align: top;\n",
              "    }\n",
              "\n",
              "    .dataframe thead th {\n",
              "        text-align: right;\n",
              "    }\n",
              "</style>\n",
              "<table border=\"1\" class=\"dataframe\">\n",
              "  <thead>\n",
              "    <tr style=\"text-align: right;\">\n",
              "      <th></th>\n",
              "      <th>continent</th>\n",
              "      <th>location</th>\n",
              "      <th>date</th>\n",
              "      <th>total_cases</th>\n",
              "      <th>new_cases</th>\n",
              "      <th>new_cases_smoothed</th>\n",
              "      <th>total_deaths</th>\n",
              "      <th>new_deaths</th>\n",
              "      <th>new_deaths_smoothed</th>\n",
              "      <th>total_cases_per_million</th>\n",
              "      <th>...</th>\n",
              "      <th>male_smokers</th>\n",
              "      <th>handwashing_facilities</th>\n",
              "      <th>hospital_beds_per_thousand</th>\n",
              "      <th>life_expectancy</th>\n",
              "      <th>human_development_index</th>\n",
              "      <th>population</th>\n",
              "      <th>excess_mortality_cumulative_absolute</th>\n",
              "      <th>excess_mortality_cumulative</th>\n",
              "      <th>excess_mortality</th>\n",
              "      <th>excess_mortality_cumulative_per_million</th>\n",
              "    </tr>\n",
              "    <tr>\n",
              "      <th>iso_code</th>\n",
              "      <th></th>\n",
              "      <th></th>\n",
              "      <th></th>\n",
              "      <th></th>\n",
              "      <th></th>\n",
              "      <th></th>\n",
              "      <th></th>\n",
              "      <th></th>\n",
              "      <th></th>\n",
              "      <th></th>\n",
              "      <th></th>\n",
              "      <th></th>\n",
              "      <th></th>\n",
              "      <th></th>\n",
              "      <th></th>\n",
              "      <th></th>\n",
              "      <th></th>\n",
              "      <th></th>\n",
              "      <th></th>\n",
              "      <th></th>\n",
              "      <th></th>\n",
              "    </tr>\n",
              "  </thead>\n",
              "  <tbody>\n",
              "    <tr>\n",
              "      <th>CAN</th>\n",
              "      <td>North America</td>\n",
              "      <td>Canada</td>\n",
              "      <td>2024-08-02</td>\n",
              "      <td>4819017.0</td>\n",
              "      <td>0.0</td>\n",
              "      <td>46.71</td>\n",
              "      <td>55282.0</td>\n",
              "      <td>0.0</td>\n",
              "      <td>0.29</td>\n",
              "      <td>124133.45</td>\n",
              "      <td>...</td>\n",
              "      <td>16.6</td>\n",
              "      <td>0.0</td>\n",
              "      <td>2.5</td>\n",
              "      <td>82.43</td>\n",
              "      <td>0.93</td>\n",
              "      <td>38454328</td>\n",
              "      <td>0.0</td>\n",
              "      <td>0.0</td>\n",
              "      <td>0.0</td>\n",
              "      <td>0.0</td>\n",
              "    </tr>\n",
              "    <tr>\n",
              "      <th>CAN</th>\n",
              "      <td>North America</td>\n",
              "      <td>Canada</td>\n",
              "      <td>2024-08-03</td>\n",
              "      <td>4819017.0</td>\n",
              "      <td>0.0</td>\n",
              "      <td>46.71</td>\n",
              "      <td>55282.0</td>\n",
              "      <td>0.0</td>\n",
              "      <td>0.29</td>\n",
              "      <td>124133.45</td>\n",
              "      <td>...</td>\n",
              "      <td>16.6</td>\n",
              "      <td>0.0</td>\n",
              "      <td>2.5</td>\n",
              "      <td>82.43</td>\n",
              "      <td>0.93</td>\n",
              "      <td>38454328</td>\n",
              "      <td>0.0</td>\n",
              "      <td>0.0</td>\n",
              "      <td>0.0</td>\n",
              "      <td>0.0</td>\n",
              "    </tr>\n",
              "    <tr>\n",
              "      <th>CAN</th>\n",
              "      <td>North America</td>\n",
              "      <td>Canada</td>\n",
              "      <td>2024-08-04</td>\n",
              "      <td>4819055.0</td>\n",
              "      <td>38.0</td>\n",
              "      <td>5.43</td>\n",
              "      <td>55282.0</td>\n",
              "      <td>0.0</td>\n",
              "      <td>0.00</td>\n",
              "      <td>124134.43</td>\n",
              "      <td>...</td>\n",
              "      <td>16.6</td>\n",
              "      <td>0.0</td>\n",
              "      <td>2.5</td>\n",
              "      <td>82.43</td>\n",
              "      <td>0.93</td>\n",
              "      <td>38454328</td>\n",
              "      <td>0.0</td>\n",
              "      <td>0.0</td>\n",
              "      <td>0.0</td>\n",
              "      <td>0.0</td>\n",
              "    </tr>\n",
              "  </tbody>\n",
              "</table>\n",
              "<p>3 rows × 66 columns</p>\n",
              "</div>\n",
              "    <div class=\"colab-df-buttons\">\n",
              "\n",
              "  <div class=\"colab-df-container\">\n",
              "    <button class=\"colab-df-convert\" onclick=\"convertToInteractive('df-c6bdfe2b-240c-425a-96b4-882a8ea83c5a')\"\n",
              "            title=\"Convert this dataframe to an interactive table.\"\n",
              "            style=\"display:none;\">\n",
              "\n",
              "  <svg xmlns=\"http://www.w3.org/2000/svg\" height=\"24px\" viewBox=\"0 -960 960 960\">\n",
              "    <path d=\"M120-120v-720h720v720H120Zm60-500h600v-160H180v160Zm220 220h160v-160H400v160Zm0 220h160v-160H400v160ZM180-400h160v-160H180v160Zm440 0h160v-160H620v160ZM180-180h160v-160H180v160Zm440 0h160v-160H620v160Z\"/>\n",
              "  </svg>\n",
              "    </button>\n",
              "\n",
              "  <style>\n",
              "    .colab-df-container {\n",
              "      display:flex;\n",
              "      gap: 12px;\n",
              "    }\n",
              "\n",
              "    .colab-df-convert {\n",
              "      background-color: #E8F0FE;\n",
              "      border: none;\n",
              "      border-radius: 50%;\n",
              "      cursor: pointer;\n",
              "      display: none;\n",
              "      fill: #1967D2;\n",
              "      height: 32px;\n",
              "      padding: 0 0 0 0;\n",
              "      width: 32px;\n",
              "    }\n",
              "\n",
              "    .colab-df-convert:hover {\n",
              "      background-color: #E2EBFA;\n",
              "      box-shadow: 0px 1px 2px rgba(60, 64, 67, 0.3), 0px 1px 3px 1px rgba(60, 64, 67, 0.15);\n",
              "      fill: #174EA6;\n",
              "    }\n",
              "\n",
              "    .colab-df-buttons div {\n",
              "      margin-bottom: 4px;\n",
              "    }\n",
              "\n",
              "    [theme=dark] .colab-df-convert {\n",
              "      background-color: #3B4455;\n",
              "      fill: #D2E3FC;\n",
              "    }\n",
              "\n",
              "    [theme=dark] .colab-df-convert:hover {\n",
              "      background-color: #434B5C;\n",
              "      box-shadow: 0px 1px 3px 1px rgba(0, 0, 0, 0.15);\n",
              "      filter: drop-shadow(0px 1px 2px rgba(0, 0, 0, 0.3));\n",
              "      fill: #FFFFFF;\n",
              "    }\n",
              "  </style>\n",
              "\n",
              "    <script>\n",
              "      const buttonEl =\n",
              "        document.querySelector('#df-c6bdfe2b-240c-425a-96b4-882a8ea83c5a button.colab-df-convert');\n",
              "      buttonEl.style.display =\n",
              "        google.colab.kernel.accessAllowed ? 'block' : 'none';\n",
              "\n",
              "      async function convertToInteractive(key) {\n",
              "        const element = document.querySelector('#df-c6bdfe2b-240c-425a-96b4-882a8ea83c5a');\n",
              "        const dataTable =\n",
              "          await google.colab.kernel.invokeFunction('convertToInteractive',\n",
              "                                                    [key], {});\n",
              "        if (!dataTable) return;\n",
              "\n",
              "        const docLinkHtml = 'Like what you see? Visit the ' +\n",
              "          '<a target=\"_blank\" href=https://colab.research.google.com/notebooks/data_table.ipynb>data table notebook</a>'\n",
              "          + ' to learn more about interactive tables.';\n",
              "        element.innerHTML = '';\n",
              "        dataTable['output_type'] = 'display_data';\n",
              "        await google.colab.output.renderOutput(dataTable, element);\n",
              "        const docLink = document.createElement('div');\n",
              "        docLink.innerHTML = docLinkHtml;\n",
              "        element.appendChild(docLink);\n",
              "      }\n",
              "    </script>\n",
              "  </div>\n",
              "\n",
              "\n",
              "<div id=\"df-c58c4fe4-da22-4a81-9b10-0daa2eb046fb\">\n",
              "  <button class=\"colab-df-quickchart\" onclick=\"quickchart('df-c58c4fe4-da22-4a81-9b10-0daa2eb046fb')\"\n",
              "            title=\"Suggest charts\"\n",
              "            style=\"display:none;\">\n",
              "\n",
              "<svg xmlns=\"http://www.w3.org/2000/svg\" height=\"24px\"viewBox=\"0 0 24 24\"\n",
              "     width=\"24px\">\n",
              "    <g>\n",
              "        <path d=\"M19 3H5c-1.1 0-2 .9-2 2v14c0 1.1.9 2 2 2h14c1.1 0 2-.9 2-2V5c0-1.1-.9-2-2-2zM9 17H7v-7h2v7zm4 0h-2V7h2v10zm4 0h-2v-4h2v4z\"/>\n",
              "    </g>\n",
              "</svg>\n",
              "  </button>\n",
              "\n",
              "<style>\n",
              "  .colab-df-quickchart {\n",
              "      --bg-color: #E8F0FE;\n",
              "      --fill-color: #1967D2;\n",
              "      --hover-bg-color: #E2EBFA;\n",
              "      --hover-fill-color: #174EA6;\n",
              "      --disabled-fill-color: #AAA;\n",
              "      --disabled-bg-color: #DDD;\n",
              "  }\n",
              "\n",
              "  [theme=dark] .colab-df-quickchart {\n",
              "      --bg-color: #3B4455;\n",
              "      --fill-color: #D2E3FC;\n",
              "      --hover-bg-color: #434B5C;\n",
              "      --hover-fill-color: #FFFFFF;\n",
              "      --disabled-bg-color: #3B4455;\n",
              "      --disabled-fill-color: #666;\n",
              "  }\n",
              "\n",
              "  .colab-df-quickchart {\n",
              "    background-color: var(--bg-color);\n",
              "    border: none;\n",
              "    border-radius: 50%;\n",
              "    cursor: pointer;\n",
              "    display: none;\n",
              "    fill: var(--fill-color);\n",
              "    height: 32px;\n",
              "    padding: 0;\n",
              "    width: 32px;\n",
              "  }\n",
              "\n",
              "  .colab-df-quickchart:hover {\n",
              "    background-color: var(--hover-bg-color);\n",
              "    box-shadow: 0 1px 2px rgba(60, 64, 67, 0.3), 0 1px 3px 1px rgba(60, 64, 67, 0.15);\n",
              "    fill: var(--button-hover-fill-color);\n",
              "  }\n",
              "\n",
              "  .colab-df-quickchart-complete:disabled,\n",
              "  .colab-df-quickchart-complete:disabled:hover {\n",
              "    background-color: var(--disabled-bg-color);\n",
              "    fill: var(--disabled-fill-color);\n",
              "    box-shadow: none;\n",
              "  }\n",
              "\n",
              "  .colab-df-spinner {\n",
              "    border: 2px solid var(--fill-color);\n",
              "    border-color: transparent;\n",
              "    border-bottom-color: var(--fill-color);\n",
              "    animation:\n",
              "      spin 1s steps(1) infinite;\n",
              "  }\n",
              "\n",
              "  @keyframes spin {\n",
              "    0% {\n",
              "      border-color: transparent;\n",
              "      border-bottom-color: var(--fill-color);\n",
              "      border-left-color: var(--fill-color);\n",
              "    }\n",
              "    20% {\n",
              "      border-color: transparent;\n",
              "      border-left-color: var(--fill-color);\n",
              "      border-top-color: var(--fill-color);\n",
              "    }\n",
              "    30% {\n",
              "      border-color: transparent;\n",
              "      border-left-color: var(--fill-color);\n",
              "      border-top-color: var(--fill-color);\n",
              "      border-right-color: var(--fill-color);\n",
              "    }\n",
              "    40% {\n",
              "      border-color: transparent;\n",
              "      border-right-color: var(--fill-color);\n",
              "      border-top-color: var(--fill-color);\n",
              "    }\n",
              "    60% {\n",
              "      border-color: transparent;\n",
              "      border-right-color: var(--fill-color);\n",
              "    }\n",
              "    80% {\n",
              "      border-color: transparent;\n",
              "      border-right-color: var(--fill-color);\n",
              "      border-bottom-color: var(--fill-color);\n",
              "    }\n",
              "    90% {\n",
              "      border-color: transparent;\n",
              "      border-bottom-color: var(--fill-color);\n",
              "    }\n",
              "  }\n",
              "</style>\n",
              "\n",
              "  <script>\n",
              "    async function quickchart(key) {\n",
              "      const quickchartButtonEl =\n",
              "        document.querySelector('#' + key + ' button');\n",
              "      quickchartButtonEl.disabled = true;  // To prevent multiple clicks.\n",
              "      quickchartButtonEl.classList.add('colab-df-spinner');\n",
              "      try {\n",
              "        const charts = await google.colab.kernel.invokeFunction(\n",
              "            'suggestCharts', [key], {});\n",
              "      } catch (error) {\n",
              "        console.error('Error during call to suggestCharts:', error);\n",
              "      }\n",
              "      quickchartButtonEl.classList.remove('colab-df-spinner');\n",
              "      quickchartButtonEl.classList.add('colab-df-quickchart-complete');\n",
              "    }\n",
              "    (() => {\n",
              "      let quickchartButtonEl =\n",
              "        document.querySelector('#df-c58c4fe4-da22-4a81-9b10-0daa2eb046fb button');\n",
              "      quickchartButtonEl.style.display =\n",
              "        google.colab.kernel.accessAllowed ? 'block' : 'none';\n",
              "    })();\n",
              "  </script>\n",
              "</div>\n",
              "\n",
              "    </div>\n",
              "  </div>\n"
            ],
            "application/vnd.google.colaboratory.intrinsic+json": {
              "type": "dataframe"
            }
          },
          "metadata": {},
          "execution_count": 4
        }
      ],
      "source": [
        "url = 'https://raw.githubusercontent.com/owid/covid-19-data/master/public/data/owid-covid-data.csv' #Link to datasaet\n",
        "dataset = pd.read_csv(url,index_col=0,parse_dates=[0]) #Load dataset\n",
        "dataset = dataset[dataset['location']=='Canada'] #Filter for Canada data\n",
        "dataset = dataset.fillna(0) #Replace null values with 0\n",
        "training_setcase = dataset.iloc[:-past,3:4].values #Create training set of total_cases as an array\n",
        "dataset.tail(3)"
      ]
    },
    {
      "cell_type": "markdown",
      "metadata": {
        "id": "ENt1B-eYEH84"
      },
      "source": [
        "## Training Data Set Case, Ctd\n",
        "After the training sets have been made, the next step is to transform the set so that they are scaled. We used the MinMaxScaler in order to normalize the cases between 0 and 1."
      ]
    },
    {
      "cell_type": "code",
      "execution_count": 23,
      "metadata": {
        "id": "1oKZ63dhhoZD"
      },
      "outputs": [],
      "source": [
        "sc = MinMaxScaler(feature_range=(0,1)) #create function to normalize data between 0 and 1\n",
        "training_set_scaledcase = sc.fit_transform(training_setcase) # normalize the total_cases array"
      ]
    },
    {
      "cell_type": "markdown",
      "metadata": {
        "id": "RhB7hAPtkA2J"
      },
      "source": [
        "## Training Data Set, Ctd\n",
        "\n",
        "We are now prepping are the training data by creating empty lists and a future variable that will dictate how many values the predictions will be based on and how many predictions will be made. In this case we are using 8 weeks (56 days) of data to predict the next three days of data. We then use an for loop to add these values according to the values that were inputted into the future and past variables. After this list is created we convert the list to an array by using numpy and then we reshape the array using numpy again so that it cant be training in our model."
      ]
    },
    {
      "cell_type": "code",
      "execution_count": 24,
      "metadata": {
        "id": "s44p8cfIhtaK"
      },
      "outputs": [],
      "source": [
        "x_traincase = [] #empty list for x train\n",
        "y_traincase = [] #empty list for y train\n",
        "for i in range(0,len(training_set_scaledcase)-past-future+1):\n",
        "    x_traincase.append(training_set_scaledcase[i : i + past , 0])\n",
        "    y_traincase.append(training_set_scaledcase[i + past : i + past + future , 0 ]) #for loop that iterates values based on how the past and future variables defined earlier\n",
        "x_traincase , y_traincase = np.array(x_traincase), np.array(y_traincase)   #transform list to array\n",
        "x_traincase = np.reshape(x_traincase, (x_traincase.shape[0] , x_traincase.shape[1], 1) )  #reshape dataset"
      ]
    },
    {
      "cell_type": "markdown",
      "metadata": {
        "id": "RbLFTuyVkY-a"
      },
      "source": [
        "## Model Building for Cases\n",
        "Here is the beginning of building our model. We first started by using Sequential to develop our layered model. We decided to build layers using LTSM, which stands for Long Short-Term Memory. We are using a LTSM network after research, it \"has only recently become a viable and powerful forecasting technique\". (https://towardsdatascience.com/lstm-framework-for-univariate-time-series-prediction-d9e7252699e#:~:text=LSTM%20methodology%2C%20while%20introduced%20in,based%20models%20like%20LSTM%20offer) We built four input layers, three of them being LTSM and two of the LTSM layers with return sequences so that when the predictions are spitout, they are reiterated back into the model. The final input layer is a dropout with a standard value of 0.2 to help mitigate overfitting. After we've added all the layers, we compile the model using the adam optimizer and use accuracy as a metric. We then fit the model to our x and y train values alongside epochs of 100 and batch_size of 64."
      ]
    },
    {
      "cell_type": "code",
      "execution_count": null,
      "metadata": {
        "colab": {
          "base_uri": "https://localhost:8080/"
        },
        "id": "bBPtRjTrh0KK",
        "outputId": "c3e57f36-3cbd-471b-881a-c653c4a375f6"
      },
      "outputs": [
        {
          "output_type": "stream",
          "name": "stderr",
          "text": [
            "/usr/local/lib/python3.10/dist-packages/keras/src/layers/rnn/rnn.py:204: UserWarning: Do not pass an `input_shape`/`input_dim` argument to a layer. When using Sequential models, prefer using an `Input(shape)` object as the first layer in the model instead.\n",
            "  super().__init__(**kwargs)\n"
          ]
        },
        {
          "output_type": "stream",
          "name": "stdout",
          "text": [
            "Epoch 1/100\n",
            "\u001b[1m4808/6709\u001b[0m \u001b[32m━━━━━━━━━━━━━━\u001b[0m\u001b[37m━━━━━━\u001b[0m \u001b[1m3:18\u001b[0m 105ms/step - accuracy: 0.3315 - loss: 0.0020"
          ]
        }
      ],
      "source": [
        "regressorcase = Sequential()\n",
        "regressorcase.add(LSTM(units = past, return_sequences = True, input_shape = (x_traincase.shape[1], 1)))\n",
        "regressorcase.add(LSTM(units = past, return_sequences = True))\n",
        "regressorcase.add(LSTM(units = past))\n",
        "regressorcase.add(Dropout(0.2))\n",
        "regressorcase.add(Dense(units = future))\n",
        "regressorcase.compile(optimizer =\"adam\", loss =\"mean_absolute_error\",\n",
        "                                             metrics =['accuracy']) #build the model with 4 input layers and one output that prints\n",
        "                                             #out the number of predictions defined in the earlier code. Then compiled the model using adam optimizer, mean_absolute_error for loss and accuracy for metrics\n",
        "regressorcase.fit(x_traincase, y_traincase, epochs=100,batch_size= 64) #fitted the model to x train. and y train with 100 epochs and batch size of 64"
      ]
    },
    {
      "cell_type": "markdown",
      "metadata": {
        "id": "ZEiufy4JkiEL"
      },
      "source": [
        "## Test Data Set and Prediction for Cases\n",
        "\n",
        "Our test dataset will be the last 8 weeks of data from the same dataaset we used to create our training data.\n",
        "\n",
        "The same way we reshaped the training dataset we also normalized, reshaped the testing datashape, and converted it to a numpy array. We then used the testing case on the model to predict the next days of covid cases. After we run the test dataset against the model, we need to reverse the transformation process that the dataset intially underwent in order to get the data in the form that is readible. The predictions now come out as a Numpy array.  "
      ]
    },
    {
      "cell_type": "code",
      "execution_count": null,
      "metadata": {
        "id": "B98D1Dta62UO"
      },
      "outputs": [],
      "source": [
        "\n",
        "testconfirm = dataset.iloc[-past:,3:4].values #create test dataset\n",
        "testingcase = sc.transform(testconfirm.reshape(-1,1)) #trainsform and reshape the dataset the same way we did for the training set\n",
        "testingcase = np.array(testingcase) #transform it into an array\n",
        "testingcase = np.reshape(testingcase,(testingcase.shape[1],testingcase.shape[0],1)) #reshape the test dataset\n",
        "predictedcase = regressorcase.predict(testingcase) #predict the dataset based on the testing data\n",
        "predictedcase = sc.inverse_transform(predictedcase)\n",
        "predictedcase = np.reshape(predictedcase,(predictedcase.shape[1],predictedcase.shape[0])) #reverse the process of normalizing the dataset\n"
      ]
    },
    {
      "cell_type": "markdown",
      "metadata": {
        "id": "9FBF2Kifk7n2"
      },
      "source": [
        "# Process for Deaths\n",
        "Repeat the same process for the the deaths prediction as well."
      ]
    },
    {
      "cell_type": "code",
      "execution_count": null,
      "metadata": {
        "id": "KCdNMhzRxnCP"
      },
      "outputs": [],
      "source": [
        "training_setdeath = dataset.iloc[:-past,6:7].values\n",
        "training_set_scaleddeath = sc.fit_transform(training_setdeath)\n",
        "x_traindeath = []\n",
        "y_traindeath = []\n",
        "for i in range(0,len(training_set_scaleddeath)-past-future+1):\n",
        "    x_traindeath.append(training_set_scaleddeath[i : i + past , 0])\n",
        "    y_traindeath.append(training_set_scaleddeath[i + past : i + past + future , 0 ])\n",
        "x_traindeath , y_traindeath = np.array(x_traindeath), np.array(y_traindeath)\n",
        "x_traindeath = np.reshape(x_traindeath, (x_traindeath.shape[0] , x_traindeath.shape[1], 1) )\n",
        "regressordeath = Sequential()\n",
        "regressordeath.add(LSTM(units = past, return_sequences = True, input_shape = (x_traindeath.shape[1], 1)))\n",
        "regressordeath.add(LSTM(units = past, return_sequences = True))\n",
        "regressordeath.add(LSTM(units = past))\n",
        "regressordeath.add(Dropout(0.2))\n",
        "regressordeath.add(Dense(units = future))\n",
        "regressordeath.compile(optimizer =\"adam\", loss =\"mean_absolute_error\",\n",
        "                                             metrics =['accuracy'])\n",
        "regressordeath.fit(x_traindeath, y_traindeath, epochs=100,batch_size= 64 )\n",
        "testdeath = dataset.iloc[-past:,6:7].values\n",
        "testingdeath = sc.transform(testdeath.reshape(-1,1))\n",
        "testingdeath = np.array(testingdeath)\n",
        "testingdeath = np.reshape(testingdeath,(testingdeath.shape[1],testingdeath.shape[0],1))\n",
        "predicteddeath = regressordeath.predict(testingdeath)\n",
        "predicteddeath = sc.inverse_transform(predicteddeath)\n",
        "predicteddeath = np.reshape(predicteddeath,(predicteddeath.shape[1],predicteddeath.shape[0]))\n",
        "#repeat the exact same process except with deaths instaed of cases"
      ]
    },
    {
      "cell_type": "markdown",
      "metadata": {
        "id": "4hoTSFq5lAc-"
      },
      "source": [
        "## Final Results\n",
        "\n",
        "We then transform these arrays into a rounded number and put them into a list. These lists are then combined and then we used pandas to develop a DataFrame to input this list. This DataFrame has the predicted values for their respective category and date."
      ]
    },
    {
      "cell_type": "code",
      "execution_count": null,
      "metadata": {
        "id": "6Wf856zWyxWa"
      },
      "outputs": [],
      "source": [
        "case = (np.squeeze(predictedcase.astype(int)))\n",
        "death =  (np.squeeze(predicteddeath.astype(int)))#from float to integer for both case and death array\n",
        "combined = [case, death] #put case and death into a list\n",
        "column_names = ['April 18, 2022', 'April 19, 2022', 'April 20, 2022'] #create column names for the DataFrame\n",
        "df = pd.DataFrame(columns = column_names, index=[ 'Total Cases', 'Total Deaths'], data=combined) #turn the predictions to DataFrame\n",
        "df.index.name = 'Canada' #create index name\n",
        "print(df) #print final results\n",
        "df.to_csv(\"FinalResults.csv\")"
      ]
    },
    {
      "cell_type": "markdown",
      "source": [
        "# Reference\n",
        "https://medium.com/analytics-vidhya/weather-forecasting-with-recurrent-neural-networks-1eaa057d70c3 for guidance"
      ],
      "metadata": {
        "id": "1fYkMOI44T58"
      }
    }
  ],
  "metadata": {
    "colab": {
      "provenance": []
    },
    "kernelspec": {
      "display_name": "Python 3",
      "name": "python3"
    },
    "language_info": {
      "name": "python"
    }
  },
  "nbformat": 4,
  "nbformat_minor": 0
}